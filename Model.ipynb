{
 "cells": [
  {
   "cell_type": "code",
   "execution_count": null,
   "metadata": {
    "_cell_guid": "b1076dfc-b9ad-4769-8c92-a6c4dae69d19",
    "_uuid": "8f2839f25d086af736a60e9eeb907d3b93b6e0e5",
    "execution": {
     "iopub.execute_input": "2021-08-28T10:28:11.948373Z",
     "iopub.status.busy": "2021-08-28T10:28:11.947961Z",
     "iopub.status.idle": "2021-08-28T10:28:11.953882Z",
     "shell.execute_reply": "2021-08-28T10:28:11.952481Z",
     "shell.execute_reply.started": "2021-08-28T10:28:11.948288Z"
    }
   },
   "outputs": [],
   "source": [
    "# !pip install pytorch-lightning\n",
    "# !pip install transformers\n",
    "# !pip install librosa\n",
    "# !pip install wandb"
   ]
  },
  {
   "cell_type": "code",
   "execution_count": 1,
   "metadata": {
    "execution": {
     "iopub.execute_input": "2021-09-05T16:24:50.251007Z",
     "iopub.status.busy": "2021-09-05T16:24:50.250637Z",
     "iopub.status.idle": "2021-09-05T16:24:59.275450Z",
     "shell.execute_reply": "2021-09-05T16:24:59.274375Z",
     "shell.execute_reply.started": "2021-09-05T16:24:50.250926Z"
    },
    "tags": []
   },
   "outputs": [
    {
     "data": {
      "text/plain": [
       "42"
      ]
     },
     "execution_count": 1,
     "metadata": {},
     "output_type": "execute_result"
    }
   ],
   "source": [
    "import librosa\n",
    "import math\n",
    "import os\n",
    "import pandas as pd\n",
    "import pathlib\n",
    "from PIL import Image\n",
    "import pytorch_lightning as pl\n",
    "from pytorch_lightning.loggers import WandbLogger\n",
    "from pytorch_lightning.callbacks.early_stopping import EarlyStopping\n",
    "from pytorch_lightning.callbacks import ModelCheckpoint\n",
    "import numpy as np\n",
    "from collections import OrderedDict \n",
    "\n",
    "import torch\n",
    "import torch.nn as nn\n",
    "from torch.utils.data import DataLoader, random_split, Dataset\n",
    "from torch.nn import functional as F\n",
    "from torchvision import datasets, models, transforms\n",
    "from torchvision.models.utils import load_state_dict_from_url\n",
    "import torchmetrics\n",
    "from torchmetrics import Accuracy, MetricCollection, Precision, Recall, F1\n",
    "from transformers import Wav2Vec2Model, Wav2Vec2Processor\n",
    "\n",
    "from typing import Type, Any, Callable, Union, List, Dict, Optional, cast\n",
    "\n",
    "import wandb\n",
    "\n",
    "pl.utilities.seed.seed_everything(42)"
   ]
  },
  {
   "cell_type": "code",
   "execution_count": 2,
   "metadata": {
    "execution": {
     "iopub.execute_input": "2021-09-05T16:25:01.677223Z",
     "iopub.status.busy": "2021-09-05T16:25:01.676849Z",
     "iopub.status.idle": "2021-09-05T16:25:01.685483Z",
     "shell.execute_reply": "2021-09-05T16:25:01.684356Z",
     "shell.execute_reply.started": "2021-09-05T16:25:01.677191Z"
    },
    "tags": []
   },
   "outputs": [],
   "source": [
    "class AudioDataset(Dataset):\n",
    "    def __init__(self, annotations_path, root_dir, tokenizer):\n",
    "        self.annotations = pd.read_csv(annotations_path, delimiter=',')\n",
    "        self.root_dir = pathlib.Path(root_dir)\n",
    "        self.tokenizer = tokenizer        \n",
    "        \n",
    "    def __len__(self):\n",
    "        return len(self.annotations)\n",
    "    \n",
    "    def __getitem__(self, idx):\n",
    "        data_row = self.annotations.iloc[idx]\n",
    "        audio, _ = librosa.load((self.root_dir/data_row['Vid_name']).with_suffix('.wav'), sr = 16000)\n",
    "        tokenized_audio = self.tokenizer(audio, sampling_rate=16000, return_tensors=\"pt\", max_length=80480, padding=\"max_length\", truncation='longest_first').input_values\n",
    "        if tokenized_audio.shape[1]!=80480:\n",
    "            tokenized_audio = tokenized_audio[:, :80480]\n",
    "        label = data_row['Label']\n",
    "        return {'sample': tokenized_audio, 'label': label-1}"
   ]
  },
  {
   "cell_type": "code",
   "execution_count": 3,
   "metadata": {
    "execution": {
     "iopub.execute_input": "2021-09-05T16:25:02.163818Z",
     "iopub.status.busy": "2021-09-05T16:25:02.163515Z",
     "iopub.status.idle": "2021-09-05T16:25:02.170794Z",
     "shell.execute_reply": "2021-09-05T16:25:02.169781Z",
     "shell.execute_reply.started": "2021-09-05T16:25:02.163790Z"
    },
    "tags": []
   },
   "outputs": [],
   "source": [
    "class VideoDataset(Dataset):\n",
    "    def __init__(self, annotations_path, root_dir, transformation):\n",
    "        self.annotations = pd.read_csv(annotations_path, delimiter=',')\n",
    "        self.root_dir = pathlib.Path(root_dir)\n",
    "        self.transform = transformation\n",
    "\n",
    "    def __len__(self):\n",
    "        return len(self.annotations)\n",
    "        \n",
    "    def __getitem__(self, idx):\n",
    "        data_row = self.annotations.iloc[idx]\n",
    "        video_name = (self.root_dir/data_row['Vid_name'])\n",
    "        images = [self.transform(Image.open(img_path)) for img_path in sorted(pathlib.Path(video_name).iterdir())]\n",
    "        stacked_images = torch.stack([pic for pic in images])\n",
    "        label = data_row['Label']\n",
    "        sample = {'sample': stacked_images, 'label': label-1}\n",
    "        return sample"
   ]
  },
  {
   "cell_type": "code",
   "execution_count": 4,
   "metadata": {
    "execution": {
     "iopub.execute_input": "2021-09-05T16:25:02.207420Z",
     "iopub.status.busy": "2021-09-05T16:25:02.207174Z",
     "iopub.status.idle": "2021-09-05T16:25:02.212968Z",
     "shell.execute_reply": "2021-09-05T16:25:02.211820Z",
     "shell.execute_reply.started": "2021-09-05T16:25:02.207396Z"
    },
    "tags": []
   },
   "outputs": [],
   "source": [
    "class MetaDataset(Dataset):\n",
    "    def __init__(self,audio_dataset, video_dataset, annotations_path):\n",
    "        self.annotations = pd.read_csv(annotations_path, delimiter=',')\n",
    "        self.audio_dataset = audio_dataset\n",
    "        self.video_dataset = video_dataset\n",
    "    \n",
    "    def __len__(self):\n",
    "        return len(self.annotations)\n",
    "    \n",
    "    def __getitem__(self, idx):\n",
    "        audio_dataset =  self.audio_dataset[idx]\n",
    "        video_dataset =  self.video_dataset[idx]\n",
    "        return {'audio': audio_dataset, 'video': video_dataset}"
   ]
  },
  {
   "cell_type": "code",
   "execution_count": 5,
   "metadata": {
    "execution": {
     "iopub.execute_input": "2021-09-05T16:25:02.227535Z",
     "iopub.status.busy": "2021-09-05T16:25:02.227300Z",
     "iopub.status.idle": "2021-09-05T16:25:02.240604Z",
     "shell.execute_reply": "2021-09-05T16:25:02.239636Z",
     "shell.execute_reply.started": "2021-09-05T16:25:02.227513Z"
    },
    "tags": []
   },
   "outputs": [],
   "source": [
    "class VgafDataModule(pl.LightningDataModule):\n",
    "\n",
    "    def __init__(self, audio_data_dir='../input/audio-multilingual/Audio_kaggle/Full_audio', vid_data_dir=pathlib.Path('../input/frames-8/frames_008'), \n",
    "                batch_size=16):\n",
    "        super().__init__()        \n",
    "        self.audio_data_dir = pathlib.Path(audio_data_dir)\n",
    "        self.vid_data_dir = pathlib.Path(vid_data_dir)\n",
    "        self.batch_size = batch_size\n",
    "        \n",
    "        self.train_labels = pathlib.Path('../input/frames-8/Splitted_annotations/train_labels')\n",
    "        self.validation_labels = pathlib.Path('../input/frames-8/Splitted_annotations/val_labels')\n",
    "        self.test_labels = pathlib.Path('../input/frames-8/Splitted_annotations/test_labels')\n",
    "        \n",
    "        self.tokenizer = Wav2Vec2Processor.from_pretrained(\"facebook/wav2vec2-base-960h\")\n",
    "        \n",
    "        self.train_transform = transforms.Compose([\n",
    "                transforms.ToTensor(),\n",
    "                transforms.RandomHorizontalFlip(p=0.4), \n",
    "                transforms.RandomVerticalFlip(p=0.2),\n",
    "                transforms.Resize((224, 224)),    \n",
    "                transforms.Normalize(mean=[0.485, 0.456, 0.406],\n",
    "                                         std=[0.229, 0.224, 0.225]),\n",
    "            ])\n",
    "        \n",
    "        self.val_transform = transforms.Compose([\n",
    "            transforms.ToTensor(),      \n",
    "            transforms.Resize((224, 224)),\n",
    "            transforms.Normalize(mean=[0.485, 0.456, 0.406],\n",
    "                                     std=[0.229, 0.224, 0.225])            \n",
    "        ])\n",
    "\n",
    "\n",
    "    def train_dataloader(self):        \n",
    "        return DataLoader(MetaDataset(annotations_path=self.train_labels,\n",
    "                           audio_dataset = AudioDataset(annotations_path=self.train_labels,\n",
    "                            root_dir=self.audio_data_dir, \n",
    "                            tokenizer=Wav2Vec2Processor.from_pretrained(\"facebook/wav2vec2-base-960h\")),\n",
    "                                      \n",
    "                         video_dataset = VideoDataset(annotations_path=self.train_labels,\n",
    "                            root_dir=self.vid_data_dir, \n",
    "                            transformation=self.train_transform)), batch_size=self.batch_size, shuffle=True, drop_last=True)\n",
    "        \n",
    "        \n",
    "    def val_dataloader(self):\n",
    "        return DataLoader(MetaDataset(annotations_path=self.validation_labels,\n",
    "                   audio_dataset = AudioDataset(annotations_path=self.validation_labels,\n",
    "                    root_dir=self.audio_data_dir, \n",
    "                    tokenizer=Wav2Vec2Processor.from_pretrained(\"facebook/wav2vec2-base-960h\")),\n",
    "\n",
    "                 video_dataset = VideoDataset(annotations_path=self.validation_labels,\n",
    "                    root_dir=self.vid_data_dir, \n",
    "                    transformation=self.val_transform)), batch_size=self.batch_size, shuffle=False, drop_last=True)\n",
    "    \n",
    "\n",
    "    def test_dataloader(self):\n",
    "        return DataLoader(MetaDataset(annotations_path=self.test_labels,\n",
    "                   audio_dataset = AudioDataset(annotations_path=self.test_labels,\n",
    "                    root_dir=self.audio_data_dir, \n",
    "                    tokenizer=Wav2Vec2Processor.from_pretrained(\"facebook/wav2vec2-base-960h\")),\n",
    "\n",
    "                 video_dataset = VideoDataset(annotations_path=self.test_labels,\n",
    "                    root_dir=self.vid_data_dir, \n",
    "                    transformation=self.val_transform)), batch_size=self.batch_size, shuffle=False, drop_last=True)"
   ]
  },
  {
   "cell_type": "markdown",
   "metadata": {},
   "source": [
    "# Trying to use pretrained resnet"
   ]
  },
  {
   "cell_type": "code",
   "execution_count": 9,
   "metadata": {
    "execution": {
     "iopub.execute_input": "2021-09-05T16:25:02.415081Z",
     "iopub.status.busy": "2021-09-05T16:25:02.414831Z",
     "iopub.status.idle": "2021-09-05T16:25:02.419423Z",
     "shell.execute_reply": "2021-09-05T16:25:02.418411Z",
     "shell.execute_reply.started": "2021-09-05T16:25:02.415058Z"
    },
    "tags": []
   },
   "outputs": [],
   "source": [
    "from torchvision.models.resnet import *\n",
    "from torchvision.models.resnet import BasicBlock, Bottleneck\n",
    "from torchvision.models.resnet import model_urls"
   ]
  },
  {
   "cell_type": "code",
   "execution_count": 10,
   "metadata": {
    "execution": {
     "iopub.execute_input": "2021-09-05T16:25:02.421756Z",
     "iopub.status.busy": "2021-09-05T16:25:02.421167Z",
     "iopub.status.idle": "2021-09-05T16:25:02.430849Z",
     "shell.execute_reply": "2021-09-05T16:25:02.430096Z",
     "shell.execute_reply.started": "2021-09-05T16:25:02.421721Z"
    },
    "tags": []
   },
   "outputs": [],
   "source": [
    "class IntResNet(ResNet):\n",
    "    def __init__(self,output_layer,*args):\n",
    "        self.output_layer = output_layer\n",
    "        super().__init__(*args)\n",
    "        \n",
    "        self._layers = []\n",
    "        for l in list(self._modules.keys()):\n",
    "            self._layers.append(l)\n",
    "            if l == output_layer:\n",
    "                break\n",
    "        self.layers = OrderedDict(zip(self._layers,[getattr(self,l) for l in self._layers]))\n",
    "\n",
    "\n",
    "    def _forward_impl(self, x):\n",
    "        for l in self._layers:\n",
    "            x = self.layers[l](x)\n",
    "            \n",
    "        return x\n",
    "\n",
    "    def forward(self, x):\n",
    "        return self._forward_impl(x)"
   ]
  },
  {
   "cell_type": "code",
   "execution_count": 11,
   "metadata": {
    "execution": {
     "iopub.execute_input": "2021-09-05T16:25:02.468979Z",
     "iopub.status.busy": "2021-09-05T16:25:02.468722Z",
     "iopub.status.idle": "2021-09-05T16:25:02.671153Z",
     "shell.execute_reply": "2021-09-05T16:25:02.670326Z",
     "shell.execute_reply.started": "2021-09-05T16:25:02.468956Z"
    },
    "tags": []
   },
   "outputs": [],
   "source": [
    "class NewModel(nn.Module):\n",
    "    def __init__(self,base_model,base_out_layer,num_trainable_layers):\n",
    "        super().__init__()\n",
    "        self.base_model = base_model\n",
    "        self.base_out_layer = base_out_layer\n",
    "        self.num_trainable_layers = num_trainable_layers\n",
    "        \n",
    "        self.model_dict = {'resnet18':{'block':BasicBlock,'layers':[2,2,2,2],'kwargs':{}},\n",
    "                           'resnet34':{'block':BasicBlock,'layers':[3,4,6,3],'kwargs':{}},\n",
    "                           'resnet50':{'block':Bottleneck,'layers':[3,4,6,3],'kwargs':{}},\n",
    "                           'resnet101':{'block':Bottleneck,'layers':[3,4,23,3],'kwargs':{}},\n",
    "                           'resnet152':{'block':Bottleneck,'layers':[3,8,36,3],'kwargs':{}},\n",
    "                           'resnext50_32x4d':{'block':Bottleneck,'layers':[3,4,6,3],\n",
    "                                              'kwargs':{'groups' : 32,'width_per_group' : 4}},\n",
    "                           'resnext101_32x8d':{'block':Bottleneck,'layers':[3,4,23,3],\n",
    "                                               'kwargs':{'groups' : 32,'width_per_group' : 8}},\n",
    "                           'wide_resnet50_2':{'block':Bottleneck,'layers':[3,4,6,3],\n",
    "                                              'kwargs':{'width_per_group' : 64 * 2}},\n",
    "                           'wide_resnet101_2':{'block':Bottleneck,'layers':[3,4,23,3],\n",
    "                                               'kwargs':{'width_per_group' : 64 * 2}}}\n",
    "        \n",
    "        #PRETRAINED MODEL\n",
    "        self.resnet = self.new_resnet(self.base_model,self.base_out_layer,\n",
    "                                     self.model_dict[self.base_model]['block'],\n",
    "                                     self.model_dict[self.base_model]['layers'],\n",
    "                                     True,True,\n",
    "                                     **self.model_dict[self.base_model]['kwargs'])\n",
    "\n",
    "        self.layers = list(self.resnet._modules.keys())\n",
    "        #FREEZING LAYERS\n",
    "        self.total_children = 0\n",
    "        self.children_counter = 0\n",
    "        for c in self.resnet.children():\n",
    "            self.total_children += 1\n",
    "            \n",
    "        if self.num_trainable_layers == -1:\n",
    "            self.num_trainable_layers = self.total_children\n",
    "        \n",
    "        for c in self.resnet.children():\n",
    "            if self.children_counter < self.total_children - self.num_trainable_layers:\n",
    "                for param in c.parameters():\n",
    "                    param.requires_grad = False\n",
    "            else:\n",
    "                for param in c.parameters():\n",
    "                    param.requires_grad =True\n",
    "            self.children_counter += 1\n",
    "                    \n",
    "    def new_resnet(self,\n",
    "                   arch: str,\n",
    "                   outlayer: str,\n",
    "                   block: Type[Union[BasicBlock, Bottleneck]],\n",
    "                   layers: List[int],\n",
    "                   pretrained: bool,\n",
    "                   progress: bool,\n",
    "                   **kwargs: Any\n",
    "                  ) -> IntResNet:\n",
    "\n",
    "        '''model_urls = {\n",
    "            'resnet18': 'https://download.pytorch.org/models/resnet18-5c106cde.pth',\n",
    "            'resnet34': 'https://download.pytorch.org/models/resnet34-333f7ec4.pth',\n",
    "            'resnet50': 'https://download.pytorch.org/models/resnet50-19c8e357.pth',\n",
    "            'resnet101': 'https://download.pytorch.org/models/resnet101-5d3b4d8f.pth',\n",
    "            'resnet152': 'https://download.pytorch.org/models/resnet152-b121ed2d.pth',\n",
    "            'resnext50_32x4d': 'https://download.pytorch.org/models/resnext50_32x4d-7cdf4587.pth',\n",
    "            'resnext101_32x8d': 'https://download.pytorch.org/models/resnext101_32x8d-8ba56ff5.pth',\n",
    "            'wide_resnet50_2': 'https://download.pytorch.org/models/wide_resnet50_2-95faca4d.pth',\n",
    "            'wide_resnet101_2': 'https://download.pytorch.org/models/wide_resnet101_2-32ee1156.pth',\n",
    "        }'''\n",
    "\n",
    "        model = IntResNet(outlayer, block, layers, **kwargs)\n",
    "        if pretrained:\n",
    "            state_dict = load_state_dict_from_url(model_urls[arch],\n",
    "                                                  progress=progress)\n",
    "            model.load_state_dict(state_dict)\n",
    "        return model\n",
    "    \n",
    "    def forward(self,x):\n",
    "        x = self.resnet(x)\n",
    "        return x"
   ]
  },
  {
   "cell_type": "markdown",
   "metadata": {},
   "source": [
    "# Model"
   ]
  },
  {
   "cell_type": "code",
   "execution_count": 12,
   "metadata": {
    "execution": {
     "iopub.execute_input": "2021-09-05T16:25:02.672888Z",
     "iopub.status.busy": "2021-09-05T16:25:02.672552Z",
     "iopub.status.idle": "2021-09-05T16:25:02.685337Z",
     "shell.execute_reply": "2021-09-05T16:25:02.684473Z",
     "shell.execute_reply.started": "2021-09-05T16:25:02.672856Z"
    },
    "tags": []
   },
   "outputs": [],
   "source": [
    "class BertAttention(nn.Module):\n",
    "    def __init__(self, num_heads=4, ctx_dim=256):\n",
    "        super().__init__()\n",
    "        self.num_attention_heads = 4\n",
    "        self.hidden_size = 256\n",
    "        if self.hidden_size % self.num_attention_heads != 0:\n",
    "            raise ValueError(\n",
    "                \"The hidden size (%d) is not a multiple of the number of attention \"\n",
    "                \"heads (%d)\" % (self.hidden_size, self.num_attention_heads))\n",
    "        self.num_attention_heads = self.num_attention_heads\n",
    "        self.attention_head_size = int(self.hidden_size / self.num_attention_heads)\n",
    "        self.all_head_size = self.num_attention_heads * self.attention_head_size\n",
    "\n",
    "        if ctx_dim is None:\n",
    "            ctx_dim =self.hidden_size\n",
    "        self.query = nn.Linear(self.hidden_size, self.all_head_size)\n",
    "        self.key = nn.Linear(ctx_dim, self.all_head_size)\n",
    "        self.value = nn.Linear(ctx_dim, self.all_head_size)\n",
    "\n",
    "        self.dropout = nn.Dropout(p=0.2)\n",
    "\n",
    "    def transpose_for_scores(self, x):\n",
    "        bsz, num_feat, hsz = x.shape\n",
    "        x = x.view(bsz, num_feat, self.num_attention_heads, self.attention_head_size)\n",
    "        return x.permute(0, 2, 1, 3)\n",
    "\n",
    "    def forward(self, hidden_states, context, attention_mask=None):\n",
    "        mixed_query_layer = self.query(hidden_states)\n",
    "        mixed_key_layer = self.key(context)\n",
    "        mixed_value_layer = self.value(context)\n",
    "\n",
    "        query_layer = self.transpose_for_scores(mixed_query_layer)\n",
    "        key_layer = self.transpose_for_scores(mixed_key_layer)\n",
    "        value_layer = self.transpose_for_scores(mixed_value_layer)\n",
    "\n",
    "        attention_scores = torch.matmul(query_layer, key_layer.transpose(-1, -2))\n",
    "        attention_scores = attention_scores / math.sqrt(self.attention_head_size)\n",
    "        if attention_mask is not None:\n",
    "            attention_scores = attention_scores + attention_mask\n",
    "\n",
    "        attention_probs = nn.Softmax(dim=-1)(attention_scores)\n",
    "\n",
    "\n",
    "        attention_probs = self.dropout(attention_probs)\n",
    "\n",
    "        context_layer = torch.matmul(attention_probs, value_layer)\n",
    "        context_layer = context_layer.permute(0, 2, 1, 3).contiguous()\n",
    "        \n",
    "        new_context_layer_shape = context_layer.size()[:-2] + (self.all_head_size,)\n",
    "        context_layer = context_layer.view(*new_context_layer_shape)\n",
    "        return context_layer"
   ]
  },
  {
   "cell_type": "code",
   "execution_count": 13,
   "metadata": {
    "execution": {
     "iopub.execute_input": "2021-09-05T16:25:02.956919Z",
     "iopub.status.busy": "2021-09-05T16:25:02.956629Z",
     "iopub.status.idle": "2021-09-05T16:25:02.963095Z",
     "shell.execute_reply": "2021-09-05T16:25:02.961995Z",
     "shell.execute_reply.started": "2021-09-05T16:25:02.956892Z"
    },
    "tags": []
   },
   "outputs": [],
   "source": [
    "class BertAttOutput(nn.Module):\n",
    "    def __init__(self):\n",
    "        super(BertAttOutput, self).__init__()\n",
    "        self.hidden_size = 256\n",
    "        self.dense = nn.Linear(self.hidden_size, self.hidden_size)\n",
    "        self.LayerNorm = BertLayerNorm(self.hidden_size, eps=1e-12)\n",
    "        self.dropout = nn.Dropout(p=0.2)\n",
    "\n",
    "    def forward(self, hidden_states, input_tensor):\n",
    "        hidden_states = self.dense(hidden_states)\n",
    "        hidden_states = self.dropout(hidden_states)\n",
    "        hidden_states = self.LayerNorm(hidden_states + input_tensor)\n",
    "        return hidden_states"
   ]
  },
  {
   "cell_type": "code",
   "execution_count": 14,
   "metadata": {
    "execution": {
     "iopub.execute_input": "2021-09-05T16:25:03.234060Z",
     "iopub.status.busy": "2021-09-05T16:25:03.233708Z",
     "iopub.status.idle": "2021-09-05T16:25:03.238966Z",
     "shell.execute_reply": "2021-09-05T16:25:03.238122Z",
     "shell.execute_reply.started": "2021-09-05T16:25:03.234006Z"
    },
    "tags": []
   },
   "outputs": [],
   "source": [
    "class BertSelfattLayer(nn.Module):\n",
    "    def __init__(self):\n",
    "        super(BertSelfattLayer, self).__init__()\n",
    "        self.self = BertAttention()\n",
    "        self.output = BertAttOutput()\n",
    "\n",
    "    def forward(self, input_tensor, attention_mask):\n",
    "        self_output = self.self(input_tensor, input_tensor, attention_mask)\n",
    "        attention_output = self.output(self_output, input_tensor)\n",
    "        return attention_output"
   ]
  },
  {
   "cell_type": "code",
   "execution_count": 15,
   "metadata": {
    "execution": {
     "iopub.execute_input": "2021-09-05T16:25:03.451810Z",
     "iopub.status.busy": "2021-09-05T16:25:03.451556Z",
     "iopub.status.idle": "2021-09-05T16:25:03.457369Z",
     "shell.execute_reply": "2021-09-05T16:25:03.456480Z",
     "shell.execute_reply.started": "2021-09-05T16:25:03.451786Z"
    },
    "tags": []
   },
   "outputs": [],
   "source": [
    "class BertCrossattLayer(nn.Module):\n",
    "    def __init__(self):\n",
    "        super().__init__()\n",
    "        self.att = BertAttention()\n",
    "        self.output = BertAttOutput()\n",
    "\n",
    "    def forward(self, input_tensor, ctx_tensor, ctx_att_mask=None):\n",
    "        input_tensor = input_tensor.permute(1, 0, 2)\n",
    "        ctx_tensor = ctx_tensor.permute(1, 0, 2)\n",
    "        output = self.att(input_tensor, ctx_tensor, ctx_att_mask)\n",
    "        attention_output = self.output(output, input_tensor)\n",
    "        return attention_output"
   ]
  },
  {
   "cell_type": "code",
   "execution_count": 16,
   "metadata": {
    "execution": {
     "iopub.execute_input": "2021-09-05T16:25:03.687756Z",
     "iopub.status.busy": "2021-09-05T16:25:03.687486Z",
     "iopub.status.idle": "2021-09-05T16:25:03.694078Z",
     "shell.execute_reply": "2021-09-05T16:25:03.693194Z",
     "shell.execute_reply.started": "2021-09-05T16:25:03.687730Z"
    },
    "tags": []
   },
   "outputs": [],
   "source": [
    "def gelu(x):\n",
    "    \"\"\"Implementation of the gelu activation function.\n",
    "        For information: OpenAI GPT's gelu is slightly different (and gives slightly different results):\n",
    "        0.5 * x * (1 + torch.tanh(math.sqrt(2 / math.pi) * (x + 0.044715 * torch.pow(x, 3))))\n",
    "        Also see https://arxiv.org/abs/1606.08415\n",
    "    \"\"\"\n",
    "    return x * 0.5 * (1.0 + torch.erf(x / math.sqrt(2.0)))\n",
    "\n",
    "\n",
    "class GeLU(nn.Module):\n",
    "    \"\"\"Implementation of the gelu activation function.\n",
    "        For information: OpenAI GPT's gelu is slightly different (and gives slightly different results):\n",
    "        0.5 * x * (1 + torch.tanh(math.sqrt(2 / math.pi) * (x + 0.044715 * torch.pow(x, 3))))\n",
    "        Also see https://arxiv.org/abs/1606.08415\n",
    "    \"\"\"\n",
    "    def __init__(self):\n",
    "        super().__init__()\n",
    "\n",
    "    def forward(self, x):\n",
    "        return gelu(x)\n",
    "    "
   ]
  },
  {
   "cell_type": "code",
   "execution_count": 17,
   "metadata": {
    "execution": {
     "iopub.execute_input": "2021-09-05T16:25:03.904391Z",
     "iopub.status.busy": "2021-09-05T16:25:03.904125Z",
     "iopub.status.idle": "2021-09-05T16:25:03.908887Z",
     "shell.execute_reply": "2021-09-05T16:25:03.907969Z",
     "shell.execute_reply.started": "2021-09-05T16:25:03.904367Z"
    },
    "tags": []
   },
   "outputs": [],
   "source": [
    "wandb_logger = WandbLogger(project='Sum_paper', log_model='all')\n",
    "BertLayerNorm = torch.nn.LayerNorm"
   ]
  },
  {
   "cell_type": "code",
   "execution_count": 18,
   "metadata": {
    "execution": {
     "iopub.execute_input": "2021-09-05T16:25:04.389116Z",
     "iopub.status.busy": "2021-09-05T16:25:04.388686Z",
     "iopub.status.idle": "2021-09-05T16:25:04.397665Z",
     "shell.execute_reply": "2021-09-05T16:25:04.393744Z",
     "shell.execute_reply.started": "2021-09-05T16:25:04.389075Z"
    },
    "tags": []
   },
   "outputs": [],
   "source": [
    "config = dict (\n",
    "  learning_rate =  1.32e-05,\n",
    "  batch_size = 16,\n",
    ")"
   ]
  },
  {
   "cell_type": "code",
   "execution_count": 19,
   "metadata": {
    "execution": {
     "iopub.execute_input": "2021-09-05T16:25:04.713788Z",
     "iopub.status.busy": "2021-09-05T16:25:04.713395Z",
     "iopub.status.idle": "2021-09-05T16:25:04.757900Z",
     "shell.execute_reply": "2021-09-05T16:25:04.756919Z",
     "shell.execute_reply.started": "2021-09-05T16:25:04.713755Z"
    },
    "tags": []
   },
   "outputs": [],
   "source": [
    "class MultTransfromer(pl.LightningModule):\n",
    "\n",
    "    def __init__(self):\n",
    "        super().__init__()\n",
    "        self.model_ft = NewModel('resnet50','layer2',num_trainable_layers = 5) #only 3rd layer being trained\n",
    "        self.wav2vec = nn.Sequential(Wav2Vec2Model.from_pretrained(\"facebook/wav2vec2-base-960h\")) # outupt torch.Size([Batch, 251, 768])\n",
    "\n",
    "        self.visual_attention = BertCrossattLayer()\n",
    "    \n",
    "        self.lang_self_att = BertSelfattLayer()\n",
    "        self.visn_self_att = BertSelfattLayer()\n",
    "        \n",
    "        self.try_conv_1x1 = nn.Conv1d(1024, 512,\n",
    "                           kernel_size=1, stride=1)\n",
    "\n",
    "\n",
    "        self.to_trans_vid = nn.Sequential(\n",
    "            nn.LayerNorm(784),\n",
    "            nn.Linear(784, 512),\n",
    "            nn.ReLU(),\n",
    "            nn.Dropout(0.15),\n",
    "            nn.Linear(512, 256)\n",
    "                  \n",
    "        )\n",
    "    \n",
    "    \n",
    "        self.to_trans_aud = nn.Sequential(\n",
    "            nn.LayerNorm(768),\n",
    "            nn.Linear(768, 512),\n",
    "            nn.ReLU(),\n",
    "            nn.Dropout(0.15),\n",
    "            nn.Linear(512, 256)\n",
    "        )\n",
    "        \n",
    "        self.after_trans_aud = nn.Sequential(\n",
    "            nn.Linear(251, 128),\n",
    "            GeLU(),\n",
    "        )\n",
    "        \n",
    "        self.after_trans_vid = nn.Sequential(\n",
    "            nn.Linear(512, 128),\n",
    "            GeLU(),\n",
    "        )\n",
    "        \n",
    "        self.classifier = nn.Sequential(\n",
    "            nn.LayerNorm(256),\n",
    "            nn.ReLU(),\n",
    "            nn.Dropout(0.15),\n",
    "            nn.Linear(256, 3),\n",
    "\n",
    "        )\n",
    "\n",
    "        \n",
    "        self.LayerNorm_vid = torch.nn.LayerNorm(256)\n",
    "        self.LayerNorm_aud = torch.nn.LayerNorm(256)\n",
    "        \n",
    "        self.lr = config['learning_rate']\n",
    "        self.batch_size = config['batch_size']\n",
    "        \n",
    "        self.pool_vid = nn.AdaptiveAvgPool1d(1)\n",
    "        self.pool_aud = nn.AdaptiveAvgPool1d(1)\n",
    "        \n",
    "        self.metrics =  MetricCollection([Accuracy(), Precision(num_classes=3, average='macro'), \n",
    "                                           Recall(num_classes=3, average='macro'), F1(num_classes=3, average='macro')])\n",
    "        \n",
    "    def cross_entropy_loss(self, logits, labels):\n",
    "        return nn.CrossEntropyLoss()(logits, labels)\n",
    "    \n",
    "    \n",
    "    def self_att(self, lang_input, visn_input, lang_attention_mask=None, visn_attention_mask=None):\n",
    "        # Self Attention\n",
    "        lang_att_output = self.lang_self_att(lang_input, lang_attention_mask)\n",
    "        visn_att_output = self.visn_self_att(visn_input, visn_attention_mask)\n",
    "        return lang_att_output, visn_att_output\n",
    "\n",
    "    \n",
    "    def cross_att(self, lang_input,  visn_input, lang_attention_mask=None, visn_attention_mask=None):\n",
    "        # Cross Attention\n",
    "        lang_att_output = self.visual_attention(lang_input, visn_input, ctx_att_mask=visn_attention_mask)\n",
    "        visn_att_output = self.visual_attention(visn_input, lang_input, ctx_att_mask=lang_attention_mask)\n",
    "        return lang_att_output, visn_att_output\n",
    "    \n",
    "    \n",
    "    def forward(self, x): \n",
    "        x_video, y_video = x['video']['sample'], x['video']['label'] #(B, n_frm, H, W, C)\n",
    "        x_audio, y_audio = x['audio']['sample'], x['audio']['label']\n",
    "\n",
    "\n",
    "\n",
    "        x_video = x_video.mean(1) #(B, H, W, C)\n",
    "        x_video = self.model_ft(x_video) #(B, d, H, W)\n",
    "        x_video = x_video.view(self.batch_size, -1, 28*28).permute(1,0,2) #(d, Batch, H*W)\n",
    "        x_video = self.to_trans_vid(x_video) #(B, num_features)       \n",
    "        x_audio = self.wav2vec(x_audio.squeeze()).last_hidden_state\n",
    "        x_audio = x_audio.permute(1, 0, 2) #(d, B, features)\n",
    "        x_audio = self.to_trans_aud(x_audio)\n",
    "        \n",
    "        lang_att_output, visn_att_output = self.self_att(x_audio, x_video) # N.B. first self attention and then cross\n",
    "\n",
    "        lang_att_output, visn_att_output = self.cross_att(lang_att_output, visn_att_output) \n",
    "\n",
    "        lang_att_output, visn_att_output = self.self_att(lang_att_output, visn_att_output) # N.B. first self attention and then cross\n",
    "\n",
    "\n",
    "        lang_att_output = self.LayerNorm_aud(x_audio.permute(1, 0, 2) + lang_att_output)\n",
    "        visn_att_output = self.LayerNorm_vid(x_video.permute(1, 0, 2) + visn_att_output)\n",
    "\n",
    "        \n",
    "        lang_att_output = self.pool_aud(lang_att_output.permute(1, 0, 2)).squeeze()\n",
    "        visn_att_output = self.pool_vid(visn_att_output.permute(1, 0, 2)).squeeze()\n",
    "    \n",
    "        \n",
    "\n",
    "        lang_att_output = self.after_trans_aud(lang_att_output.permute(1, 0))\n",
    "        visn_att_output = self.after_trans_vid(visn_att_output.permute(1, 0))\n",
    "        \n",
    "        concated_features = torch.cat((visn_att_output, lang_att_output), dim=1)\n",
    "        logits = self.classifier(concated_features)\n",
    "        return logits\n",
    "        \n",
    "        \n",
    "\n",
    "    def training_step(self, batch, batch_idx):\n",
    "        _, loss, metrics = self._get_preds_loss_accuracy(batch)\n",
    "\n",
    "        # Log loss and metric\n",
    "        self.log('train_loss', loss)\n",
    "        self.log('train_metrics', metrics)\n",
    "        return loss\n",
    "\n",
    "\n",
    "    def validation_step(self, batch, batch_idx):\n",
    "        preds, loss, metrics = self._get_preds_loss_accuracy(batch)\n",
    "        self.log('val_loss', loss)\n",
    "        self.log('val_metrics', metrics)\n",
    "        return preds\n",
    "\n",
    "    def test_step(self, batch, batch_idx):\n",
    "        _, loss, metrics = self._get_preds_loss_accuracy(batch)\n",
    "\n",
    "        # Log loss and metric\n",
    "        self.log('test_loss', loss)\n",
    "        self.log('test_metrics', metrics)\n",
    "\n",
    "\n",
    "    def configure_optimizers(self):\n",
    "\n",
    "        matches = ['visual_attention', 'visn_self_att', 'lang_self_att']\n",
    "\n",
    "        \n",
    "        params_1x = [param for name, param in model.named_parameters()\n",
    "            if name not in matches]\n",
    "        params_low_lr = [param for name, param in model.named_parameters()\n",
    "            if name in matches]\n",
    "        optimizer = torch.optim.Adam([\n",
    "            {'params': params_1x}, \n",
    "            {'params': params_low_lr, 'lr': self.lr * 0.1}\n",
    "        ], lr=self.lr, weight_decay=0.001)\n",
    "        \n",
    "        return {\n",
    "        'optimizer': optimizer,\n",
    "\n",
    "        'monitor': 'val_loss',\n",
    "    }\n",
    "\n",
    "    def _get_preds_loss_accuracy(self, batch):\n",
    "        '''convenience function since train/valid/test steps are similar'''\n",
    "        y = batch['video']['label']\n",
    "        logits = self.forward(batch)\n",
    "        loss = F.cross_entropy(logits, y)\n",
    "        preds = torch.argmax(logits, dim=1)\n",
    "        m = nn.Softmax(dim=1)\n",
    "        softmax_preds = m(logits)\n",
    "        metrics = self.metrics(softmax_preds, y)\n",
    "        return preds, loss, metrics"
   ]
  },
  {
   "cell_type": "code",
   "execution_count": 22,
   "metadata": {
    "execution": {
     "iopub.execute_input": "2021-09-05T16:25:06.526126Z",
     "iopub.status.busy": "2021-09-05T16:25:06.525786Z",
     "iopub.status.idle": "2021-09-05T20:42:04.458376Z",
     "shell.execute_reply": "2021-09-05T20:42:04.456809Z",
     "shell.execute_reply.started": "2021-09-05T16:25:06.526093Z"
    },
    "tags": []
   },
   "outputs": [
    {
     "data": {
      "application/vnd.jupyter.widget-view+json": {
       "model_id": "4ec3277404c440c8a3015725c47e5e28",
       "version_major": 2,
       "version_minor": 0
      },
      "text/plain": [
       "Downloading:   0%|          | 0.00/159 [00:00<?, ?B/s]"
      ]
     },
     "metadata": {},
     "output_type": "display_data"
    },
    {
     "data": {
      "application/vnd.jupyter.widget-view+json": {
       "model_id": "2875cfd35c694de6b992f31ff4b7ebf5",
       "version_major": 2,
       "version_minor": 0
      },
      "text/plain": [
       "Downloading:   0%|          | 0.00/291 [00:00<?, ?B/s]"
      ]
     },
     "metadata": {},
     "output_type": "display_data"
    },
    {
     "data": {
      "application/vnd.jupyter.widget-view+json": {
       "model_id": "ec358b8ec02448b08790f05de6d49419",
       "version_major": 2,
       "version_minor": 0
      },
      "text/plain": [
       "Downloading:   0%|          | 0.00/163 [00:00<?, ?B/s]"
      ]
     },
     "metadata": {},
     "output_type": "display_data"
    },
    {
     "data": {
      "application/vnd.jupyter.widget-view+json": {
       "model_id": "7a10b95981814c62b2f7595341186545",
       "version_major": 2,
       "version_minor": 0
      },
      "text/plain": [
       "Downloading:   0%|          | 0.00/85.0 [00:00<?, ?B/s]"
      ]
     },
     "metadata": {},
     "output_type": "display_data"
    },
    {
     "name": "stderr",
     "output_type": "stream",
     "text": [
      "Downloading: \"https://download.pytorch.org/models/resnet50-19c8e357.pth\" to /root/.cache/torch/hub/checkpoints/resnet50-19c8e357.pth\n"
     ]
    },
    {
     "data": {
      "application/vnd.jupyter.widget-view+json": {
       "model_id": "a0f5c65e1d7e4e668dc81e93ce7e79bf",
       "version_major": 2,
       "version_minor": 0
      },
      "text/plain": [
       "  0%|          | 0.00/97.8M [00:00<?, ?B/s]"
      ]
     },
     "metadata": {},
     "output_type": "display_data"
    },
    {
     "data": {
      "application/vnd.jupyter.widget-view+json": {
       "model_id": "7e7c5555a252404c82e9ff2b741e5f51",
       "version_major": 2,
       "version_minor": 0
      },
      "text/plain": [
       "Downloading:   0%|          | 0.00/1.60k [00:00<?, ?B/s]"
      ]
     },
     "metadata": {},
     "output_type": "display_data"
    },
    {
     "data": {
      "application/vnd.jupyter.widget-view+json": {
       "model_id": "536183f9e8c94dbe8dfb7c07a26435c5",
       "version_major": 2,
       "version_minor": 0
      },
      "text/plain": [
       "Downloading:   0%|          | 0.00/378M [00:00<?, ?B/s]"
      ]
     },
     "metadata": {},
     "output_type": "display_data"
    },
    {
     "name": "stderr",
     "output_type": "stream",
     "text": [
      "Some weights of the model checkpoint at facebook/wav2vec2-base-960h were not used when initializing Wav2Vec2Model: ['lm_head.bias', 'lm_head.weight']\n",
      "- This IS expected if you are initializing Wav2Vec2Model from the checkpoint of a model trained on another task or with another architecture (e.g. initializing a BertForSequenceClassification model from a BertForPreTraining model).\n",
      "- This IS NOT expected if you are initializing Wav2Vec2Model from the checkpoint of a model that you expect to be exactly identical (initializing a BertForSequenceClassification model from a BertForSequenceClassification model).\n",
      "Some weights of Wav2Vec2Model were not initialized from the model checkpoint at facebook/wav2vec2-base-960h and are newly initialized: ['wav2vec2.masked_spec_embed']\n",
      "You should probably TRAIN this model on a down-stream task to be able to use it for predictions and inference.\n",
      "\u001b[34m\u001b[1mwandb\u001b[0m: You can find your API key in your browser here: https://wandb.ai/authorize\n"
     ]
    },
    {
     "name": "stdin",
     "output_type": "stream",
     "text": [
      "\u001b[34m\u001b[1mwandb\u001b[0m: Paste an API key from your profile and hit enter:  ········································\n"
     ]
    },
    {
     "name": "stderr",
     "output_type": "stream",
     "text": [
      "\u001b[34m\u001b[1mwandb\u001b[0m: Appending key for api.wandb.ai to your netrc file: /root/.netrc\n",
      "\u001b[34m\u001b[1mwandb\u001b[0m: wandb version 0.12.1 is available!  To upgrade, please run:\n",
      "\u001b[34m\u001b[1mwandb\u001b[0m:  $ pip install wandb --upgrade\n"
     ]
    },
    {
     "data": {
      "text/html": [
       "\n",
       "                Tracking run with wandb version 0.10.33<br/>\n",
       "                Resuming run <strong style=\"color:#cdcd00\">true-river-54</strong> to <a href=\"https://wandb.ai\" target=\"_blank\">Weights & Biases</a> <a href=\"https://docs.wandb.com/integrations/jupyter.html\" target=\"_blank\">(Documentation)</a>.<br/>\n",
       "                Project page: <a href=\"https://wandb.ai/lev_etd/Sum_paper\" target=\"_blank\">https://wandb.ai/lev_etd/Sum_paper</a><br/>\n",
       "                Run page: <a href=\"https://wandb.ai/lev_etd/Sum_paper/runs/1vopttzo\" target=\"_blank\">https://wandb.ai/lev_etd/Sum_paper/runs/1vopttzo</a><br/>\n",
       "                Run data is saved locally in <code>/kaggle/working/wandb/run-20210905_162607-1vopttzo</code><br/><br/>\n",
       "            "
      ],
      "text/plain": [
       "<IPython.core.display.HTML object>"
      ]
     },
     "metadata": {},
     "output_type": "display_data"
    },
    {
     "name": "stderr",
     "output_type": "stream",
     "text": [
      "/opt/conda/lib/python3.7/site-packages/pytorch_lightning/trainer/callback_hook.py:308: LightningDeprecationWarning: `Callback.on_load_checkpoint` signature has changed in v1.3. `trainer` and `pl_module` parameters have been added. Support for the old signature will be removed in v1.5\n",
      "  \"`Callback.on_load_checkpoint` signature has changed in v1.3.\"\n"
     ]
    },
    {
     "data": {
      "application/vnd.jupyter.widget-view+json": {
       "model_id": "3d16f09d2b154b9794f9f7e7992387f5",
       "version_major": 2,
       "version_minor": 0
      },
      "text/plain": [
       "Validation sanity check: 0it [00:00, ?it/s]"
      ]
     },
     "metadata": {},
     "output_type": "display_data"
    },
    {
     "data": {
      "application/vnd.jupyter.widget-view+json": {
       "model_id": "045fef1d71cd453c9a76bcd48d8293fb",
       "version_major": 2,
       "version_minor": 0
      },
      "text/plain": [
       "Training: 0it [00:00, ?it/s]"
      ]
     },
     "metadata": {},
     "output_type": "display_data"
    },
    {
     "data": {
      "application/vnd.jupyter.widget-view+json": {
       "model_id": "086408dcfce44370855d3e5770185c4a",
       "version_major": 2,
       "version_minor": 0
      },
      "text/plain": [
       "Validating: 0it [00:00, ?it/s]"
      ]
     },
     "metadata": {},
     "output_type": "display_data"
    },
    {
     "data": {
      "application/vnd.jupyter.widget-view+json": {
       "model_id": "d5f4b3bfeaec41dd8621bcdc19504a0b",
       "version_major": 2,
       "version_minor": 0
      },
      "text/plain": [
       "Validating: 0it [00:00, ?it/s]"
      ]
     },
     "metadata": {},
     "output_type": "display_data"
    },
    {
     "data": {
      "application/vnd.jupyter.widget-view+json": {
       "model_id": "225dc7b7ef214580a67cbb3a4344d6d5",
       "version_major": 2,
       "version_minor": 0
      },
      "text/plain": [
       "Validating: 0it [00:00, ?it/s]"
      ]
     },
     "metadata": {},
     "output_type": "display_data"
    },
    {
     "data": {
      "application/vnd.jupyter.widget-view+json": {
       "model_id": "2aeb8206c0ac4acbb253a11fc5062b77",
       "version_major": 2,
       "version_minor": 0
      },
      "text/plain": [
       "Validating: 0it [00:00, ?it/s]"
      ]
     },
     "metadata": {},
     "output_type": "display_data"
    },
    {
     "data": {
      "application/vnd.jupyter.widget-view+json": {
       "model_id": "07ee228e038c4f38a7d24ce85c85bef3",
       "version_major": 2,
       "version_minor": 0
      },
      "text/plain": [
       "Validating: 0it [00:00, ?it/s]"
      ]
     },
     "metadata": {},
     "output_type": "display_data"
    },
    {
     "data": {
      "application/vnd.jupyter.widget-view+json": {
       "model_id": "1dc847423a9e40e190e8fa2b05009920",
       "version_major": 2,
       "version_minor": 0
      },
      "text/plain": [
       "Validating: 0it [00:00, ?it/s]"
      ]
     },
     "metadata": {},
     "output_type": "display_data"
    },
    {
     "data": {
      "application/vnd.jupyter.widget-view+json": {
       "model_id": "10f882513478409ea5b5c79d6f3a1274",
       "version_major": 2,
       "version_minor": 0
      },
      "text/plain": [
       "Validating: 0it [00:00, ?it/s]"
      ]
     },
     "metadata": {},
     "output_type": "display_data"
    },
    {
     "name": "stderr",
     "output_type": "stream",
     "text": [
      "/opt/conda/lib/python3.7/site-packages/pytorch_lightning/trainer/trainer.py:897: UserWarning: Detected KeyboardInterrupt, attempting graceful shutdown...\n",
      "  rank_zero_warn('Detected KeyboardInterrupt, attempting graceful shutdown...')\n"
     ]
    }
   ],
   "source": [
    "dm = VgafDataModule()\n",
    "model = MultTransfromer()\n",
    "# count_parameters(model)\n",
    "wandb.init(project=\"Sum_paper\", resume='1vopttzo')\n",
    "wandb_logger.watch(model)\n",
    "\n",
    "\n",
    "\n",
    "early_stop_callback = EarlyStopping(\n",
    "    monitor='val_loss',\n",
    "    min_delta=0.00,\n",
    "    patience=7,\n",
    "    verbose=False,\n",
    "    mode='min',\n",
    "    check_on_train_epoch_end=True\n",
    ")\n",
    "\n",
    "checkpoint_callback = ModelCheckpoint(monitor='val_loss',\n",
    "                                      save_top_k=3,\n",
    "                                      save_last=True,\n",
    "                                      save_weights_only=False,\n",
    "                                      filename='checkpoint/{epoch:02d}-{val_loss:.4f}-{val_f1:.4f}',\n",
    "                                      verbose=False,\n",
    "                                      mode='min')\n",
    "\n",
    "\n",
    "trainer = pl.Trainer(\n",
    "    logger=wandb_logger, \n",
    "                     gpus=-1, \n",
    "    deterministic=True,\n",
    "    callbacks=[early_stop_callback, checkpoint_callback],\n",
    "    auto_lr_find=True,\n",
    "    resume_from_checkpoint=\"../input/new-model-weights/thatssick.ckpt\"\n",
    "#                      auto_scale_batch_size='binsearch',\n",
    "                       )\n",
    "\n",
    "trainer.fit(model, dm)\n",
    "# trainer.tune(model, datamodule=dm)"
   ]
  },
  {
   "cell_type": "code",
   "execution_count": 37,
   "metadata": {
    "execution": {
     "iopub.execute_input": "2021-09-05T20:44:49.972099Z",
     "iopub.status.busy": "2021-09-05T20:44:49.971715Z",
     "iopub.status.idle": "2021-09-05T20:44:50.002526Z",
     "shell.execute_reply": "2021-09-05T20:44:50.001544Z",
     "shell.execute_reply.started": "2021-09-05T20:44:49.972065Z"
    }
   },
   "outputs": [
    {
     "name": "stderr",
     "output_type": "stream",
     "text": [
      "\u001b[34m\u001b[1mwandb\u001b[0m: \u001b[33mWARNING\u001b[0m Symlinked 3 files into the W&B run directory, call wandb.save again to sync new files.\n"
     ]
    },
    {
     "data": {
      "text/plain": [
       "['/kaggle/working/wandb/run-20210905_162607-1vopttzo/files/wandb/run-20210905_162607-1vopttzo/files/Sum_paper/1vopttzo/checkpoints/checkpoint/epoch=16-val_loss=0.7842-val_f1=0.0000.ckpt',\n",
       " '/kaggle/working/wandb/run-20210905_162607-1vopttzo/files/wandb/run-20210905_162607-1vopttzo/files/Sum_paper/1vopttzo/checkpoints/checkpoint/epoch=15-val_loss=0.7899-val_f1=0.0000.ckpt',\n",
       " '/kaggle/working/wandb/run-20210905_162607-1vopttzo/files/wandb/run-20210905_162607-1vopttzo/files/Sum_paper/1vopttzo/checkpoints/checkpoint/epoch=14-val_loss=0.8031-val_f1=0.0000.ckpt']"
      ]
     },
     "execution_count": 37,
     "metadata": {},
     "output_type": "execute_result"
    }
   ],
   "source": [
    "wandb.save('./wandb/run-20210905_162607-1vopttzo/files/Sum_paper/1vopttzo/checkpoints/checkpoint/*ckpt*')"
   ]
  },
  {
   "cell_type": "code",
   "execution_count": 38,
   "metadata": {
    "execution": {
     "iopub.execute_input": "2021-09-05T20:47:08.433967Z",
     "iopub.status.busy": "2021-09-05T20:47:08.433549Z",
     "iopub.status.idle": "2021-09-05T20:50:28.598245Z",
     "shell.execute_reply": "2021-09-05T20:50:28.597443Z",
     "shell.execute_reply.started": "2021-09-05T20:47:08.433923Z"
    }
   },
   "outputs": [
    {
     "data": {
      "application/vnd.jupyter.widget-view+json": {
       "model_id": "84de73a4a31d4d5eaf38fb731832b9d3",
       "version_major": 2,
       "version_minor": 0
      },
      "text/plain": [
       "Testing: 0it [00:00, ?it/s]"
      ]
     },
     "metadata": {},
     "output_type": "display_data"
    },
    {
     "name": "stdout",
     "output_type": "stream",
     "text": [
      "--------------------------------------------------------------------------------\n",
      "DATALOADER:0 TEST RESULTS\n",
      "{'test_loss': 1.0114009380340576,\n",
      " 'test_metrics': {'Accuracy': tensor(0.6425, device='cuda:0'),\n",
      "                  'F1': tensor(0.5880, device='cuda:0'),\n",
      "                  'Precision': tensor(0.6218, device='cuda:0'),\n",
      "                  'Recall': tensor(0.6211, device='cuda:0')}}\n",
      "--------------------------------------------------------------------------------\n"
     ]
    },
    {
     "data": {
      "text/plain": [
       "[{'test_loss': 1.0114009380340576,\n",
       "  'test_metrics': {'Accuracy': tensor(0.6425, device='cuda:0'),\n",
       "   'Precision': tensor(0.6218, device='cuda:0'),\n",
       "   'Recall': tensor(0.6211, device='cuda:0'),\n",
       "   'F1': tensor(0.5880, device='cuda:0')}}]"
      ]
     },
     "execution_count": 38,
     "metadata": {},
     "output_type": "execute_result"
    }
   ],
   "source": [
    "trainer.test(datamodule=dm, model=model, ckpt_path='/kaggle/working/wandb/run-20210905_162607-1vopttzo/files/wandb/run-20210905_162607-1vopttzo/files/Sum_paper/1vopttzo/checkpoints/checkpoint/epoch=16-val_loss=0.7842-val_f1=0.0000.ckpt')"
   ]
  }
 ],
 "metadata": {
  "kernelspec": {
   "display_name": "Python 3",
   "language": "python",
   "name": "python3"
  },
  "language_info": {
   "codemirror_mode": {
    "name": "ipython",
    "version": 3
   },
   "file_extension": ".py",
   "mimetype": "text/x-python",
   "name": "python",
   "nbconvert_exporter": "python",
   "pygments_lexer": "ipython3",
   "version": "3.8.10"
  }
 },
 "nbformat": 4,
 "nbformat_minor": 4
}
